{
 "cells": [
  {
   "cell_type": "code",
   "execution_count": 23,
   "metadata": {},
   "outputs": [
    {
     "name": "stdout",
     "output_type": "stream",
     "text": [
      "-inf\n",
      "-inf\n"
     ]
    },
    {
     "name": "stderr",
     "output_type": "stream",
     "text": [
      "c:\\Users\\Mark\\anaconda3\\lib\\site-packages\\scipy\\signal\\lti_conversion.py:109: RuntimeWarning: invalid value encountered in subtract\n",
      "  C = num[:, 1:] - outer(num[:, 0], den[1:])\n",
      "c:\\Users\\Mark\\python-control\\control\\passivity.py:77: RuntimeWarning: invalid value encountered in matmul\n",
      "  np.hstack((off_diag.T, B.T@P@B-(D.T@Q@D + D.T@S + S.T@D + R)))\n",
      "c:\\Users\\Mark\\python-control\\control\\passivity.py:77: RuntimeWarning: invalid value encountered in add\n",
      "  np.hstack((off_diag.T, B.T@P@B-(D.T@Q@D + D.T@S + S.T@D + R)))\n"
     ]
    },
    {
     "ename": "ArithmeticError",
     "evalue": "1",
     "output_type": "error",
     "traceback": [
      "\u001b[1;31m---------------------------------------------------------------------------\u001b[0m",
      "\u001b[1;31mArithmeticError\u001b[0m                           Traceback (most recent call last)",
      "\u001b[1;32mc:\\Users\\Mark\\python-control\\passivity_test.ipynb Cell 1\u001b[0m in \u001b[0;36m<cell line: 19>\u001b[1;34m()\u001b[0m\n\u001b[0;32m     <a href='vscode-notebook-cell:/c%3A/Users/Mark/python-control/passivity_test.ipynb#ch0000000?line=15'>16</a>\u001b[0m sys_ff_nu \u001b[39m=\u001b[39m parallel(sys, \u001b[39m-\u001b[39miff_index)\n\u001b[0;32m     <a href='vscode-notebook-cell:/c%3A/Users/Mark/python-control/passivity_test.ipynb#ch0000000?line=16'>17</a>\u001b[0m sys_fb_rho \u001b[39m=\u001b[39m feedback(sys, ofb_index,  sign\u001b[39m=\u001b[39m\u001b[39m1\u001b[39m)\n\u001b[1;32m---> <a href='vscode-notebook-cell:/c%3A/Users/Mark/python-control/passivity_test.ipynb#ch0000000?line=18'>19</a>\u001b[0m \u001b[39massert\u001b[39;00m(sys_ff_nu\u001b[39m.\u001b[39;49mispassive())\n\u001b[0;32m     <a href='vscode-notebook-cell:/c%3A/Users/Mark/python-control/passivity_test.ipynb#ch0000000?line=19'>20</a>\u001b[0m \u001b[39massert\u001b[39;00m(sys_fb_rho\u001b[39m.\u001b[39mispassive())\n\u001b[0;32m     <a href='vscode-notebook-cell:/c%3A/Users/Mark/python-control/passivity_test.ipynb#ch0000000?line=21'>22</a>\u001b[0m sys_ff_nu \u001b[39m=\u001b[39m parallel(sys, \u001b[39m-\u001b[39miff_index\u001b[39m-\u001b[39m\u001b[39m1e-2\u001b[39m)\n",
      "File \u001b[1;32mc:\\Users\\Mark\\python-control\\control\\lti.py:208\u001b[0m, in \u001b[0;36mLTI.ispassive\u001b[1;34m(self)\u001b[0m\n\u001b[0;32m    205\u001b[0m \u001b[39mdef\u001b[39;00m \u001b[39mispassive\u001b[39m(\u001b[39mself\u001b[39m):\n\u001b[0;32m    206\u001b[0m     \u001b[39m# importing here prevents circular dependancy\u001b[39;00m\n\u001b[0;32m    207\u001b[0m     \u001b[39mfrom\u001b[39;00m \u001b[39mcontrol\u001b[39;00m\u001b[39m.\u001b[39;00m\u001b[39mpassivity\u001b[39;00m \u001b[39mimport\u001b[39;00m ispassive\n\u001b[1;32m--> 208\u001b[0m     \u001b[39mreturn\u001b[39;00m ispassive(\u001b[39mself\u001b[39;49m)\n",
      "File \u001b[1;32mc:\\Users\\Mark\\python-control\\control\\passivity.py:219\u001b[0m, in \u001b[0;36mispassive\u001b[1;34m(sys, ofp_index, ifp_index)\u001b[0m\n\u001b[0;32m    206\u001b[0m \u001b[39mdef\u001b[39;00m \u001b[39mispassive\u001b[39m(sys, ofp_index \u001b[39m=\u001b[39m \u001b[39m0\u001b[39m, ifp_index \u001b[39m=\u001b[39m \u001b[39m0\u001b[39m):\n\u001b[0;32m    207\u001b[0m     \u001b[39m'''Indicates if a linear time invariant (LTI) system is passive.\u001b[39;00m\n\u001b[0;32m    208\u001b[0m \n\u001b[0;32m    209\u001b[0m \u001b[39m    Parameters\u001b[39;00m\n\u001b[1;32m   (...)\u001b[0m\n\u001b[0;32m    217\u001b[0m \u001b[39m        The input system is passive.\u001b[39;00m\n\u001b[0;32m    218\u001b[0m \u001b[39m    '''\u001b[39;00m\n\u001b[1;32m--> 219\u001b[0m     \u001b[39mreturn\u001b[39;00m _solve_passivity_LMI(sys, rho \u001b[39m=\u001b[39;49m ofp_index, nu \u001b[39m=\u001b[39;49m ifp_index) \u001b[39mis\u001b[39;00m \u001b[39mnot\u001b[39;00m \u001b[39mNone\u001b[39;00m\n",
      "File \u001b[1;32mc:\\Users\\Mark\\python-control\\control\\passivity.py:155\u001b[0m, in \u001b[0;36m_solve_passivity_LMI\u001b[1;34m(sys, rho, nu)\u001b[0m\n\u001b[0;32m    153\u001b[0m \u001b[39m# crunch feasibility solution\u001b[39;00m\n\u001b[0;32m    154\u001b[0m cvx\u001b[39m.\u001b[39msolvers\u001b[39m.\u001b[39moptions[\u001b[39m'\u001b[39m\u001b[39mshow_progress\u001b[39m\u001b[39m'\u001b[39m] \u001b[39m=\u001b[39m \u001b[39mFalse\u001b[39;00m\n\u001b[1;32m--> 155\u001b[0m sol \u001b[39m=\u001b[39m cvx\u001b[39m.\u001b[39;49msolvers\u001b[39m.\u001b[39;49msdp(c, Gs\u001b[39m=\u001b[39;49mGs, hs\u001b[39m=\u001b[39;49mhs)\n\u001b[0;32m    156\u001b[0m \u001b[39mreturn\u001b[39;00m sol[\u001b[39m\"\u001b[39m\u001b[39mx\u001b[39m\u001b[39m\"\u001b[39m]\n",
      "File \u001b[1;32mc:\\Users\\Mark\\anaconda3\\lib\\site-packages\\cvxopt\\coneprog.py:4126\u001b[0m, in \u001b[0;36msdp\u001b[1;34m(c, Gl, hl, Gs, hs, A, b, kktsolver, solver, primalstart, dualstart, **kwargs)\u001b[0m\n\u001b[0;32m   4123\u001b[0m \u001b[39melse\u001b[39;00m:\n\u001b[0;32m   4124\u001b[0m     ds \u001b[39m=\u001b[39m \u001b[39mNone\u001b[39;00m\n\u001b[1;32m-> 4126\u001b[0m sol \u001b[39m=\u001b[39m conelp(c, G, h, dims, A \u001b[39m=\u001b[39;49m A, b \u001b[39m=\u001b[39;49m b, primalstart \u001b[39m=\u001b[39;49m ps, dualstart \u001b[39m=\u001b[39;49m ds, kktsolver \u001b[39m=\u001b[39;49m kktsolver, options \u001b[39m=\u001b[39;49m options)\n\u001b[0;32m   4127\u001b[0m \u001b[39mif\u001b[39;00m sol[\u001b[39m'\u001b[39m\u001b[39ms\u001b[39m\u001b[39m'\u001b[39m] \u001b[39mis\u001b[39;00m \u001b[39mNone\u001b[39;00m:\n\u001b[0;32m   4128\u001b[0m     sol[\u001b[39m'\u001b[39m\u001b[39msl\u001b[39m\u001b[39m'\u001b[39m] \u001b[39m=\u001b[39m \u001b[39mNone\u001b[39;00m\n",
      "File \u001b[1;32mc:\\Users\\Mark\\anaconda3\\lib\\site-packages\\cvxopt\\coneprog.py:1033\u001b[0m, in \u001b[0;36mconelp\u001b[1;34m(c, G, h, dims, A, b, primalstart, dualstart, kktsolver, xnewcopy, xdot, xaxpy, xscal, ynewcopy, ydot, yaxpy, yscal, **kwargs)\u001b[0m\n\u001b[0;32m   1026\u001b[0m \u001b[39m# Compute initial scaling W:\u001b[39;00m\n\u001b[0;32m   1027\u001b[0m \u001b[39m#\u001b[39;00m\n\u001b[0;32m   1028\u001b[0m \u001b[39m#     W * z = W^{-T} * s = lambda\u001b[39;00m\n\u001b[0;32m   1029\u001b[0m \u001b[39m#     dg * tau = 1/dg * kappa = lambdag.\u001b[39;00m\n\u001b[0;32m   1031\u001b[0m \u001b[39mif\u001b[39;00m iters \u001b[39m==\u001b[39m \u001b[39m0\u001b[39m:\n\u001b[1;32m-> 1033\u001b[0m     W \u001b[39m=\u001b[39m misc\u001b[39m.\u001b[39;49mcompute_scaling(s, z, lmbda, dims, mnl \u001b[39m=\u001b[39;49m \u001b[39m0\u001b[39;49m)\n\u001b[0;32m   1035\u001b[0m     \u001b[39m#     dg = sqrt( kappa / tau )\u001b[39;00m\n\u001b[0;32m   1036\u001b[0m     \u001b[39m#     dgi = sqrt( tau / kappa )\u001b[39;00m\n\u001b[0;32m   1037\u001b[0m     \u001b[39m#     lambda_g = sqrt( tau * kappa )\u001b[39;00m\n\u001b[0;32m   1038\u001b[0m     \u001b[39m#\u001b[39;00m\n\u001b[0;32m   1039\u001b[0m     \u001b[39m# lambda_g is stored in the last position of lmbda.\u001b[39;00m\n\u001b[0;32m   1041\u001b[0m     dg \u001b[39m=\u001b[39m math\u001b[39m.\u001b[39msqrt( kappa \u001b[39m/\u001b[39m tau )\n",
      "File \u001b[1;32mc:\\Users\\Mark\\anaconda3\\lib\\site-packages\\cvxopt\\misc.py:387\u001b[0m, in \u001b[0;36mcompute_scaling\u001b[1;34m(s, z, lmbda, dims, mnl)\u001b[0m\n\u001b[0;32m    385\u001b[0m \u001b[39m# Factor sk = Ls*Ls'; store Ls in ds[inds[k]:inds[k+1]].\u001b[39;00m\n\u001b[0;32m    386\u001b[0m blas\u001b[39m.\u001b[39mcopy(s, Ls, offsetx \u001b[39m=\u001b[39m ind2, n \u001b[39m=\u001b[39m m\u001b[39m*\u001b[39m\u001b[39m*\u001b[39m\u001b[39m2\u001b[39m) \n\u001b[1;32m--> 387\u001b[0m lapack\u001b[39m.\u001b[39;49mpotrf(Ls, n \u001b[39m=\u001b[39;49m m, ldA \u001b[39m=\u001b[39;49m m)\n\u001b[0;32m    389\u001b[0m \u001b[39m# Factor zs[k] = Lz*Lz'; store Lz in dz[inds[k]:inds[k+1]].\u001b[39;00m\n\u001b[0;32m    390\u001b[0m blas\u001b[39m.\u001b[39mcopy(z, Lz, offsetx \u001b[39m=\u001b[39m ind2, n \u001b[39m=\u001b[39m m\u001b[39m*\u001b[39m\u001b[39m*\u001b[39m\u001b[39m2\u001b[39m) \n",
      "\u001b[1;31mArithmeticError\u001b[0m: 1"
     ]
    }
   ],
   "source": [
    "import matplotlib.pyplot \n",
    "import numpy\n",
    "import math\n",
    "import sys as system\n",
    "from control import passivity, ss, tf, parallel, feedback, sample_system\n",
    "from scipy import optimize\n",
    "\n",
    "sys = tf([1], [1, -2])\n",
    "print(sys)\n",
    "sys = sample_system(sys, Ts=1)\n",
    "iff_index = passivity.get_input_ff_index(sys)\n",
    "ofb_index = passivity.get_output_fb_index(sys)\n",
    "\n",
    "print(iff_index)\n",
    "print(ofb_index)\n",
    "\n",
    "sys_ff_nu = parallel(sys, -iff_index)\n",
    "sys_fb_rho = feedback(sys, ofb_index,  sign=1)\n",
    "\n",
    "assert(sys_ff_nu.ispassive())\n",
    "assert(sys_fb_rho.ispassive())\n",
    "\n",
    "sys_ff_nu = parallel(sys, -iff_index-1e-2)\n",
    "sys_fb_rho = feedback(sys, ofb_index+1e-2, sign=1)\n",
    "\n",
    "assert(not sys_ff_nu.ispassive())\n",
    "assert(not sys_fb_rho.ispassive())\n",
    "\n"
   ]
  }
 ],
 "metadata": {
  "kernelspec": {
   "display_name": "Python 3.9.12 ('base')",
   "language": "python",
   "name": "python3"
  },
  "language_info": {
   "codemirror_mode": {
    "name": "ipython",
    "version": 3
   },
   "file_extension": ".py",
   "mimetype": "text/x-python",
   "name": "python",
   "nbconvert_exporter": "python",
   "pygments_lexer": "ipython3",
   "version": "3.9.12"
  },
  "orig_nbformat": 4,
  "vscode": {
   "interpreter": {
    "hash": "ccecdc02aa416300a64487fe6971a8398ebaf053d2b2768f769ac21dbbf13f86"
   }
  }
 },
 "nbformat": 4,
 "nbformat_minor": 2
}
